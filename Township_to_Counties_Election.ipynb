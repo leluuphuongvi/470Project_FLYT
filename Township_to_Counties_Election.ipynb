{
 "cells": [
  {
   "cell_type": "markdown",
   "metadata": {},
   "source": [
    "# Election Result"
   ]
  },
  {
   "cell_type": "code",
   "execution_count": 1,
   "metadata": {},
   "outputs": [],
   "source": [
    "import pandas as pd\n",
    "import numpy as np"
   ]
  },
  {
   "cell_type": "markdown",
   "metadata": {},
   "source": [
    "## Townships to Counties:\n",
    "Some states posted their result by towns instead od counties. By grouping the towns, we will be about the find the percentage of the county"
   ]
  },
  {
   "cell_type": "code",
   "execution_count": null,
   "metadata": {},
   "outputs": [],
   "source": [
    "result = pd.read_excel('States_with_Townships_Result.xlsx')"
   ]
  },
  {
   "cell_type": "markdown",
   "metadata": {},
   "source": [
    "**Maine :** Since I did some by hand before I have this idea, some counties are in the spreedsheet but not here"
   ]
  },
  {
   "cell_type": "code",
   "execution_count": null,
   "metadata": {},
   "outputs": [],
   "source": [
    "p = pd.DataFrame (result, columns =['Maine','Maine_P'])\n",
    "\n",
    "new_header = p.iloc[0] #grab the first row for the header\n",
    "p = p[1:] #take the data less the header row\n",
    "p.columns = new_header #set the header row as the df header"
   ]
  },
  {
   "cell_type": "code",
   "execution_count": null,
   "metadata": {},
   "outputs": [],
   "source": [
    "# Take out the space in every town name that have more than 1 words.\n",
    "p.Township = p.Township.str.replace(' ', '')\n",
    "\n",
    "#Take out punctuation\n",
    "p.Township = p.Township.str.replace(r'[^\\w\\s]+', '')\n",
    "\n",
    "# Make the Towns name the index and make it into a dictionary\n",
    "r=p.set_index('Township').to_dict()\n",
    "\n",
    "# Turn the dictionary into variables\n",
    "locals().update(r['Percentage'])"
   ]
  },
  {
   "cell_type": "code",
   "execution_count": null,
   "metadata": {},
   "outputs": [],
   "source": [
    "# Group the Townships to their Counties\n",
    "Kennebec_County = [Augusta, Gardiner, Hallowell, Waterville, Albion, Belgrade, Benton, Chelsea, China, Clinton,\n",
    "                   Farmingdale, Fayette, Litchfield, Manchester, Monmouth, MountVernon, Oakland, Pittston, Randolph,\n",
    "                   Readfield, Rome, Sidney, Vassalboro, Vienna, Wayne, WestGardiner, Windsor, Winslow, Winthrop]\n",
    "Knox_County = [Rockland, Appleton, Camden, Cushing, Friendship, Hope, IsleAuHaut, NorthHaven, OwlsHead, Rockport, StGeorge,\n",
    "               SouthThomaston, Thomaston, Union, Vinalhaven, Warren, Washington, MatinicusIslePlt]\n",
    "Lincoln_County = [Alna, Boothbay, BoothbayHarbor, Bremen, Bristol, Damariscotta, Dresden, Edgecomb, Jefferson, Newcastle, \n",
    "                  Nobleboro, Somerville, SouthBristol, Southport, Waldoboro, Westport, Whitefield, Wiscasset, MonheganPlt]\n",
    "Oxford_County = [Andover, Bethel, Brownfield, Buckfield, Byron, Canton, Denmark, Dixfield, Fryeburg, Gilead, Greenwood,\n",
    "                 Hanover, Hartford, Hebron, Hiram, Lovell, Mexico, Newry, Norway, Otisfield, Oxford, Paris, Peru,\n",
    "                 Porter, Roxbury, Rumford, Stoneham, Stow, Sumner, Sweden, Upton, Waterford, WestParis, Woodstock, \n",
    "                 LincolnPlt, MagallowayPlt]\n",
    "Penobscot_County = [Bangor, Brewer, OldTown, Alton, Bradford, Bradley, Burlington, Carmel, Charleston, Chester, Clifton,\n",
    "                    Corinna, Corinth, Dexter, Dixmont, EastMillinocket, Eddington, Edinburg, Enfield, Etna, Exeter, Garland, \n",
    "                    Glenburn, Greenbush, Greenville, Hampden, Hermon, Holden, Howland, Hudson, Kenduskeag, LaGrange, Lakeville,\n",
    "                    Lee, Levant, Lincoln, Lowell, Mattawamkeag, Maxfield, Medway, Milford, Millinocket, MountChase, Newburgh,\n",
    "                    Newport, Orono, Orrington, Passadumkeag, Patten, Plymouth, Springfield, Stacyville, Stetson, Veazie, \n",
    "                    Winn, Woodville, CarrollPlt, DrewPlt, SeboeisPlt, WebsterPlt]\n",
    "Piscataquis_County = [Abbot, Atkinson, BeaverCove, Bowerbank, Brownville, DoverFoxcroft, Greenville, Guilford, Medford, Milo,\n",
    "                      Monson, Parkman, Sangerville, Sebec, Shirley, Wellington, Willimantic, KingsburyPlt, LakeViewPlt]\n",
    "Sagadahoc_County = [Bath, Arrowsic, Bowdoin, Bowdoinham, Georgetown, Phippsburg, Richmond, Topsham, WestBath, Woolwich]\n",
    "Somerset_County = [Anson, Athens, Bingham, Cambridge, Canaan, Cornville, Detroit, Embden, Fairfield, Harmony, Hartland,\n",
    "                   Jackman, Madison, Mercer, MooseRiver, Moscow, NewPortland, Norridgewock, Palmyra, Pittsfield, Ripley,\n",
    "                   SaintAgatha, Skowhegan, Smithfield, Solon, Starks,  BrightonPlt, CyrPlt, DennistownPlt, HighlandPlt,\n",
    "                   PleasantRidgePlt, TheForksPlt, WestForksPlt]\n",
    "Waldo_County = [Belfast, Belmont, Brooks, Burnham, Frankfort, Freedom, Islesboro, Jackson, Knox, Liberty, Lincolnville, \n",
    "                Monroe, Montville, Morrill, Northport, Palermo, Prospect, Searsmont, Searsport, StocktonSprings, Swanville,\n",
    "                Thorndike, Troy, Unity, Waldo, Winterport]\n",
    "Washington_County= [ Calais, Eastport,  Addison, Alexander, Baileyville, Beals, Beddington, Charlotte, Cherryfield, Columbia,\n",
    "                    ColumbiaFalls, Cooper, Crawford, Cutler, Danforth, Deblois, Dennysville, EastMachias, Harrington, \n",
    "                    IndianTownshipVtngDst, Jonesboro, Jonesport, Lubec, Machias, Machiasport, Marshfield, Meddybemps, \n",
    "                    Milbridge, Northfield, Pembroke, Perry, Princeton, Robbinston, RoqueBluffs, Steuben, Talmadge, Topsfield,\n",
    "                    Vanceboro, Waite, Wesley, Whiting, Whitneyville, BaringPlt, GrandLakeStreamPlt]\n",
    "York_County = [Biddeford, Saco, Acton, Alfred, Arundel, Berwick, Buxton, Cornish, Dayton, Eliot, Hollis, Kennebunk, \n",
    "               Kennebunkport, Kittery, Lebanon, Limerick, Limington, Lyman, Newfield, NorthBerwick, Ogunquit, OldOrchrdBch,\n",
    "               Parsonsfield, Sanford, Shapleigh, SouthBerwick, Waterboro, Wells, York]  "
   ]
  },
  {
   "cell_type": "code",
   "execution_count": null,
   "metadata": {},
   "outputs": [],
   "source": [
    "# Group the remain counties\n",
    "Maine_Counties = [Kennebec_County, Knox_County, Lincoln_County, Oxford_County, Penobscot_County, Piscataquis_County,\n",
    "                  Sagadahoc_County, Waldo_County, Washington_County,York_County]"
   ]
  },
  {
   "cell_type": "code",
   "execution_count": null,
   "metadata": {},
   "outputs": [],
   "source": [
    "Maine_percentage = []\n",
    "\n",
    "for i in range(len(Maine_Counties)):\n",
    "    Maine_percentage.append(np.mean(Maine_Counties[i]))\n",
    "    \n",
    "Maine_percentage"
   ]
  },
  {
   "cell_type": "markdown",
   "metadata": {},
   "source": [
    "**Massachusetts :** "
   ]
  },
  {
   "cell_type": "code",
   "execution_count": null,
   "metadata": {},
   "outputs": [],
   "source": [
    "Ma= pd.DataFrame (result, columns =['Massachusetts','MassachusettsP'])\n",
    "\n",
    "new_header = Ma.iloc[0] #grab the first row for the header\n",
    "Ma = Ma[1:] #take the data less the header row\n",
    "Ma.columns = new_header #set the header row as the df header\n",
    "\n",
    "# Take out the space in every town name that have more than 1 words.\n",
    "Ma.Township = Ma.Township.str.replace(' ', '')\n",
    "\n",
    "#Take out punctuation\n",
    "Ma.Township = Ma.Township.str.replace(r'[^\\w\\s]+', '')\n",
    "\n",
    "# Drop NaN\n",
    "Mas = Ma.dropna()\n",
    "\n",
    "# Make the Towns name the index and make it into a dictionary\n",
    "Mass = Mas.set_index('Township').to_dict()\n",
    "\n",
    "# Turn the dictionary into variables\n",
    "locals().update(Mass['Percentage'])"
   ]
  },
  {
   "cell_type": "code",
   "execution_count": null,
   "metadata": {},
   "outputs": [],
   "source": [
    "Barnstable_County = [Bourne, Brewster, Chatham, Dennis, Eastham, Falmouth, Harwich, Mashpee, Orleans, Provincetown, Sandwich,\n",
    "                     Truro, Wellfleet, Yarmouth]\n",
    "Berkshire_County = [Adams, Alford, Becket, Cheshire, Clarksburg, Dalton, Egremont, Florida, GreatBarrington, Hancock,\n",
    "                    Hinsdale, Lanesborough, Lee, Lenox, Monterey, MountWashington , NewAshford, NewMarlborough,NorthAdams,\n",
    "                    Otis, Peru, Pittsfield, Richmond, Sandisfield, Savoy, Sheffield, Stockbridge, Tyringham, Washington, \n",
    "                    WestStockbridge, Williamstown, Windsor]\n",
    "Bristol_County = [Acushnet, Attleboro, Berkley, Dartmouth, Dighton,Easton, Fairhaven, FallRiver, Freetown, Mansfield,\n",
    "                  NewBedford, NorthAttleborough, Norton, Raynham, Rehoboth, Seekonk, Somerset, Swansea, Taunton, Westport]\n",
    "Dukes_County = [Aquinnah, Chilmark, Edgartown, Gosnold, OakBluffs, Tisbury, WestTisbury]\n",
    "Essex_County = [Amesbury, Andover, Beverly, Boxford, Danvers, Essex, Georgetown, Gloucester, Groveland, Hamilton, Haverhill,\n",
    "                Ipswich, Lawrence, Lynn, Lynnfield, Manchester, Marblehead, Merrimac, Methuen, Middleton, Nahant,\n",
    "                Newbury, Newburyport, NorthAndover, Peabody, Rockport, Rowley, Salem, Salisbury, Saugus, Swampscott,\n",
    "                Topsfield, Wenham, WestNewbury]\n",
    "Franklin_County = [Ashfield, Bernardston, Buckland, Charlemont, Colrain, Conway, Deerfield, Erving, Gill, Greenfield, Hawley,\n",
    "                   Heath, Leverett, Leyden, Monroe, Montague, NewSalem, Northfield, Orange, Rowe, Shelburne, Shutesbury,\n",
    "                   Sunderland, Warwick, Wendell, Whately]\n",
    "Hampden_County = [Agawam, Blandford, Brimfield, Chester, Chicopee, EastLongmeadow, Granville, Hampden, Holland, Holyoke,\n",
    "                  Longmeadow, Ludlow, Monson, Montgomery, Palmer, Russell, Southwick, Springfield, Tolland, Wales,\n",
    "                  WestSpringfield, Westfield, Wilbraham]\n",
    "Hampshire_County = [Amherst, Belchertown, Chesterfield, Cummington, Easthampton, Goshen, Granby, Hadley, Hatfield,Huntington,\n",
    "                    Middlefield, Northampton, Pelham, Plainfield, SouthHadley, Southampton, Ware, Westhampton, Williamsburg,\n",
    "                    Worthington]\n",
    "Middlesex_County = [Acton, Arlington, Ashby, Ashland, Ayer, Bedford, Belmont, Billerica, Boxborough, Burlington, Cambridge,\n",
    "                    Carlisle, Chelmsford, Concord, Dracut, Dunstable, Everett, Framingham, Groton, Holliston, Hopkinton,\n",
    "                    Hudson, Lexington, Lincoln, Littleton, Lowell, Malden, Marlborough, Maynard, Medford, Melrose, Natick,\n",
    "                    Newton, NorthReading, Pepperell, Reading, Sherborn, Shirley, Somerville, Stoneham, Stow, Sudbury,\n",
    "                    Tewksbury, Townsend, Tyngsborough, Wakefield, Waltham, Watertown, Wayland, Westford, Weston, Wilmington,\n",
    "                    Winchester, Woburn]\n",
    "Nantucket_County = Nantucket\n",
    "Norfolk_County = [Avon, Bellingham, Braintree, Brookline, Canton, Cohasset, Dedham, Dover, Foxborough, Franklin, Holbrook,\n",
    "                  Medfield, Medway, Millis, Milton, Needham, Norfolk, Norwood, Plainville, Quincy, Randolph, Sharon,\n",
    "                  Stoughton, Walpole, Wellesley, Westwood, Weymouth, Wrentham]\n",
    "Plymouth_County = [Abington, Bridgewater, Brockton, Carver, Duxbury, EastBridgewater, Halifax, Hanover, Hanson, Hingham, Hull,\n",
    "                   Kingston, Lakeville, Marion, Marshfield, Mattapoisett, Middleborough, Norwell, Pembroke, Plymouth, Plympton,\n",
    "                   Rochester, Rockland, Scituate, Wareham, WestBridgewater, Whitman]\n",
    "Suffolk_County = [Boston, Chelsea, Revere, Winthrop]\n",
    "Worcester_County = [Ashburnham, Athol, Auburn, Barre, Berlin, Blackstone, Bolton, Boylston, Brookfield, Charlton, Clinton,\n",
    "                    Douglas, Dudley, EastBrookfield, Fitchburg, Gardner, Grafton, Hardwick, Harvard, Holden, Hopedale, \n",
    "                    Hubbardston, Lancaster, Leicester, Leominster, Lunenburg, Mendon, Milford, Millbury, Millville,\n",
    "                    NewBraintree, NorthBrookfield, Northborough, Northbridge, Oakham, Oxford, Paxton, Petersham, \n",
    "                    Phillipston, Princeton, Royalston, Rutland, Shrewsbury, Southborough, Southbridge, Spencer, Sterling,\n",
    "                    Sturbridge, Sutton, Templeton, Upton, Uxbridge, Warren, Webster, WestBoylston, WestBrookfield, \n",
    "                    Westborough, Westminster, Winchendon, Worcester]"
   ]
  },
  {
   "cell_type": "code",
   "execution_count": null,
   "metadata": {},
   "outputs": [],
   "source": [
    "Mass_Counties = [Barnstable_County, Berkshire_County, Bristol_County,Dukes_County,Essex_County,Franklin_County,\n",
    "                 Hampden_County, Middlesex_County, Nantucket_County,Norfolk_County,Plymouth_County,Suffolk_County,\n",
    "                 Worcester_County]\n",
    "\n",
    "Mass_percentage = []\n",
    "\n",
    "for i in range(len(Mass_Counties)):\n",
    "    Mass_percentage.append(np.mean(Mass_Counties[i]))\n",
    "    \n",
    "Mass_percentage"
   ]
  },
  {
   "cell_type": "markdown",
   "metadata": {},
   "source": [
    "**New Hampshire:** "
   ]
  },
  {
   "cell_type": "code",
   "execution_count": null,
   "metadata": {},
   "outputs": [],
   "source": [
    "NH = pd.DataFrame (result, columns =['New Hampshire','NH'])\n",
    "\n",
    "new_header = NH.iloc[0] #grab the first row for the header\n",
    "NH = NH[1:] #take the data less the header row\n",
    "NH.columns = new_header #set the header row as the df header\n",
    "\n",
    "# Take out the space in every town name that have more than 1 words.\n",
    "NH.Township = NH.Township.str.replace(' ', '')\n",
    "\n",
    "#Take out punctuation\n",
    "NH.Township = NH.Township.str.replace(r'[^\\w\\s]+', '')\n",
    "\n",
    "# Drop NaN\n",
    "NewH = NH.dropna()\n",
    "\n",
    "# Make the Towns name the index and make it into a dictionary\n",
    "NewHam = NewH.set_index('Township').to_dict()\n",
    "\n",
    "# Turn the dictionary into variables\n",
    "locals().update(NewHam['Percent'])"
   ]
  },
  {
   "cell_type": "code",
   "execution_count": null,
   "metadata": {},
   "outputs": [],
   "source": [
    "Belknap_County = [Alton, Barnstead, Belmont, CenterHarbor, Gilford, Gilmanton, Laconia, Meredith, NewHampton, Sanbornton,\n",
    "                  Tilton]\n",
    "Carroll_County = [Albany,Bartlett,Brookfield,Chatham,Conway,Eaton,Effingham,Freedom,HartsLocation,Jackson,\n",
    "                  Madison,Moultonborough,Ossipee,Sandwich,Tamworth,Tuftonboro,Wakefield,Wolfeboro]\n",
    "Cheshire_County = [Alstead,Chesterfield,Dublin,Fitzwilliam,Gilsum,Harrisville,Hinsdale,Jaffrey,Keene,Marlborough,Marlow,\n",
    "                   Nelson,Richmond,Rindge,Roxbury,Stoddard,Sullivan,Surry,Swanzey,Troy,Walpole,Westmoreland,Winchester]\n",
    "Coös_County = [Atkinson,Berlin,Carroll,Clarksville,Colebrook,Columbia,Dalton,Dixville,Dummer,Errol,Gorham,\n",
    "               Jefferson,Lancaster,Milan,Millsfield,Northumberland,Pittsburg,Randolph,Shelburne,Stark,Stewartstown,\n",
    "               Stratford,Whitefield]\n",
    "Grafton_County = [Alexandria,Ashland,Bath,Benton,Bethlehem,Bridgewater,Bristol,Campton,Canaan,Dorchester,Easton,Ellsworth,\n",
    "                  Enfield,Franconia,Grafton,Groton,Hanover,Haverhill,Hebron,Holderness,Landaff,Lebanon,Lincoln,Lisbon,\n",
    "                  Littleton,Lyman,Lyme,Monroe,Orange,Orford,Piermont,Plymouth,Rumney,SugarHill,Thornton,Warren,\n",
    "                  Waterville,Wentworth,Woodstock]\n",
    "Hillsborough_County = [Amherst,Antrim,Bedford,Bennington,Brookline,Deering,Francestown,Goffstown,Greenfield,Greenville,\n",
    "                       Hancock,Hillsborough,Hollis,Hudson,Litchfield,Lyndeborough,Manchester,Mason,Merrimack,Milford,\n",
    "                       MontVernon,Nashua,NewBoston,NewIpswich,Pelham,Peterborough,Sharon,Temple,Weare,Wilton,Windsor]\n",
    "Merrimack_County = [Allenstown,Andover,Boscawen,Bow,Bradford,Canterbury,Chichester,Concord,Danbury,Dunbarton,Epsom,Franklin,\n",
    "                    Henniker,Hill,Hooksett,Hopkinton,Loudon,NewLondon,Newbury,Northfield,Pembroke,Pittsfield,Salisbury,\n",
    "                    Sutton,Warner,Webster,Wilmot]\n",
    "Rockingham_County = [Atkinson,Auburn,Brentwood,Candia,Chester,Danville,Deerfield,Derry,EastKingston,Epping,Exeter,Fremont,\n",
    "                     Greenland,Hampstead,Hampton,HamptonFalls,Kensington,Kingston,Londonderry,NewCastle,Newfields,Newington,\n",
    "                     Newmarket,Newton,NorthHampton,Northwood,Nottingham,Plaistow,Portsmouth,Raymond,Rye,Salem,Sandown,\n",
    "                     Seabrook,SouthHampton,Stratham,Windham]\n",
    "Strafford_County = [Barrington,Dover,Durham,Farmington,Lee,Madbury,Middleton,Milton,NewDurham,Rochester,Rollinsford,\n",
    "                    Somersworth,Strafford]\n",
    "Sullivan_County = [Acworth, Charlestown, Claremont, Cornish, Croydon, Goshen, Grantham, Langdon,Lempster, Newport,\n",
    "                   Plainfield, Springfield, Sunapee, Unity, Washington]"
   ]
  },
  {
   "cell_type": "code",
   "execution_count": null,
   "metadata": {},
   "outputs": [],
   "source": [
    "NH_Counties = [Belknap_County, Carroll_County, Cheshire_County,Coös_County,Grafton_County,Hillsborough_County,\n",
    "               Merrimack_County, Rockingham_County, Strafford_County, Sullivan_County]\n",
    "NH_percentage = []\n",
    "\n",
    "for i in range(len(NH_Counties)):\n",
    "    NH_percentage.append(np.mean(NH_Counties[i]))\n",
    "    \n",
    "NH_percentage"
   ]
  },
  {
   "cell_type": "markdown",
   "metadata": {},
   "source": [
    "**Rhode Island:** "
   ]
  },
  {
   "cell_type": "code",
   "execution_count": null,
   "metadata": {},
   "outputs": [],
   "source": [
    "RI = pd.DataFrame (result, columns =['Rhode Island','RI_P'])\n",
    "\n",
    "new_header = RI.iloc[0] #grab the first row for the header\n",
    "RI = RI[1:] #take the data less the header row\n",
    "RI.columns = new_header #set the header row as the df header\n",
    "\n",
    "# Take out the space in every town name that have more than 1 words.\n",
    "RI.Municipality = RI.Municipality.str.replace(' ', '')\n",
    "\n",
    "#Take out punctuation\n",
    "RI.Municipality = RI.Municipality.str.replace(r'[^\\w\\s]+', '')\n",
    "\n",
    "# Drop NaN\n",
    "RhodeI = RI.dropna()\n",
    "\n",
    "# Make the Towns name the index and make it into a dictionary\n",
    "Rhode_I = RhodeI.set_index('Municipality').to_dict()\n",
    "\n",
    "# Turn the dictionary into variables\n",
    "locals().update(Rhode_I['Percent'])"
   ]
  },
  {
   "cell_type": "code",
   "execution_count": null,
   "metadata": {},
   "outputs": [],
   "source": [
    "Bristol_County = [Barrington,Bristol,Warren]\n",
    "Kent_County = [Coventry,EastGreenwich,Warwick,WestGreenwich,WestWarwick]\n",
    "Newport_County = [Jamestown,LittleCompton,Middletown,Newport,Portsmouth,Tiverton]\n",
    "Providence_County = [Burrillville,CentralFalls,Cranston,Cumberland,EastProvidence,Foster,Glocester,Johnston,Lincoln,\n",
    "                     NorthProvidence,NorthSmithfield,Pawtucket,Providence,Scituate,Smithfield,Woonsocket]\n",
    "Washington_County_RI = [Charlestown,Exeter,Hopkinton,Narragansett,NewShoreham,NorthKingstown,Richmond,SouthKingstown,\n",
    "                        Westerly]"
   ]
  },
  {
   "cell_type": "code",
   "execution_count": null,
   "metadata": {},
   "outputs": [],
   "source": [
    "RI_Counties = [Bristol_County, Kent_County,Newport_County,Providence_County,Washington_County_RI ]\n",
    "RI_percentage = []\n",
    "\n",
    "for i in range(len(RI_Counties)):\n",
    "    RI_percentage.append(np.mean(RI_Counties[i]))\n",
    "    \n",
    "RI_percentage"
   ]
  },
  {
   "cell_type": "markdown",
   "metadata": {},
   "source": [
    "**Vermont:** "
   ]
  },
  {
   "cell_type": "code",
   "execution_count": null,
   "metadata": {},
   "outputs": [],
   "source": [
    "VT = pd.DataFrame (result, columns =['Vermont','VT_P'])\n",
    "\n",
    "new_header = VT.iloc[0] #grab the first row for the header\n",
    "VT = VT[1:] #take the data less the header row\n",
    "VT.columns = new_header #set the header row as the df header\n",
    "\n",
    "# Take out the space in every town name that have more than 1 words.\n",
    "VT.Township = VT.Township.str.replace(' ', '')\n",
    "\n",
    "#Take out punctuation\n",
    "VT.Township = VT.Township.str.replace(r'[^\\w\\s]+', '')\n",
    "\n",
    "# Drop NaN\n",
    "Ver = VT.dropna()\n",
    "\n",
    "# Make the Towns name the index and make it into a dictionary\n",
    "V = Ver.set_index('Township').to_dict()\n",
    "\n",
    "# Turn the dictionary into variables\n",
    "locals().update(V['Percent'])"
   ]
  },
  {
   "cell_type": "code",
   "execution_count": null,
   "metadata": {},
   "outputs": [],
   "source": [
    "Addison_County = [Addison, Bridport, Bristol, Cornwall, Ferrisburg, Goshen, Granville,Hancock, Leicester, Lincoln,\n",
    "                  Middlebury, Monkton, NewHaven, Orwell, Panton, Ripton, Salisbury, Shoreham, Starksboro,\n",
    "                  Vergennes, Waltham, Weybridge, Whiting]\n",
    "Bennington_County = [Arlington, Bennington, Dorset, Landgrove, Manchester, Peru, Pownal, Readsboro, \n",
    "                     Rupert, Sandgate, Searsburg, Shaftsbury, Stamford, Sunderland, Winhall, Woodford]\n",
    "Caledonia_County = [Barnet, Burke, Danville, Groton, Hardwick, Kirby, Lyndon, Newark,Peacham, Ryegate, Sheffield, \n",
    "                    StJohnsbury, Stannard, Sutton, Walden, Waterford, Wheelock]\n",
    "Chittenden_County = [Bolton, Burlington, Charlotte, Colchester, Essex, Hinesburg, Huntington, Jericho,\n",
    "                     Milton, Richmond, Shelburne, SouthBurlington, StGeorge, Underhill, Westford, Williston, Winooski]\n",
    "Essex_County_VT = [Bloomfield, Brighton, Brunswick, Canaan, Concord, EastHaven, Granby, Guildhall, Lemington, Lunenburg,\n",
    "                   Maidstone, Norton, Victory, Warren]\n",
    "Franklin_County = [Bakersfield, Berkshire, Enosburgh, Fairfax, Fairfield, Fletcher, Franklin, Georgia, Highgate, \n",
    "                   Montgomery, Richford, Sheldon, StAlbans, StAlbansTown, Swanton]\n",
    "Grand_Isle_County = [Alburgh, GrandIsle, IsleLaMotte, NorthHero, SouthHero] \n",
    "Lamoille_County = [Belvidere, Cambridge, Eden, Elmore, HydePark, Johnson,Morristown, Stowe, Waterville, Wolcott]\n",
    "Orange_County_VT = [Bradford, Braintree, Brookfield, Chelsea, Corinth, Fairlee, Newbury,Orange, Randolph, Strafford,\n",
    "                    Thetford, Topsham, Tunbridge, Vershire, Washington, WestFairlee, Williamstown]\n",
    "Orleans_County = [Albany, Barton, Brownington, Charleston, Coventry, Craftsbury, Derby, Glover, Greensboro, Holland, \n",
    "                  Irasburg, Jay, Lowell, Morgan, Newport, NewportTown, Troy, Westfield, Westmore]\n",
    "Rutland_County = [Benson, Brandon, Castleton, Chittenden, Clarendon, Danby, FairHaven, Hubbardton, Ira, Killington, Mendon,\n",
    "                  MiddletownSprings, MountHolly, MountTabor, Pawlet, Pittsfield, Pittsford, Poultney, Proctor, Rutland, \n",
    "                  RutlandTown, Shrewsbury, Sudbury, Tinmouth, Wallingford, Wells, WestHaven, WestRutland]\n",
    "Washington_County_VT = [Barre, BarreTown, Berlin, Cabot, Calais, Duxbury, EastMontpelier, Fayston, Marshfield, Middlesex, \n",
    "                        Montpelier, Moretown, Northfield, Plainfield, Roxbury, Waitsfield, Warren, Waterbury, Woodbury,\n",
    "                        Worcester]\n",
    "Windham_County = [Athens, Brattleboro, Brookline, Dover, Dummerston, Grafton, Guilford, Halifax, Jamaica, Londonderry,\n",
    "                  Marlboro, Newfane, Putney, Rockingham, Stratton, Townshend, Vernon, Wardsboro, Westminster, \n",
    "                  Whitingham, Wilmington, Windham]\n",
    "Windsor_County = [Andover, Baltimore, Barnard, Bethel, Bridgewater, Cavendish, Chester, Hartford, Hartland, Ludlow, Norwich,\n",
    "                  Plymouth, Pomfret, Reading, Rochester, Royalton, Sharon, Springfield, Stockbridge, Weathersfield,\n",
    "                  WestWindsor, Weston, Windsor, Woodstock]"
   ]
  },
  {
   "cell_type": "code",
   "execution_count": null,
   "metadata": {},
   "outputs": [],
   "source": [
    "VT_Counties = [Addison_County,Bennington_County, Caledonia_County, Essex_County_VT, Franklin_County, Grand_Isle_County,\n",
    "              Lamoille_County, Orange_County_VT, Orleans_County, Rutland_County, Washington_County_VT, Windham_County,\n",
    "              Windsor_County]\n",
    "VT_percentage = []\n",
    "\n",
    "for i in range(len(VT_Counties)):\n",
    "    VT_percentage.append(np.mean(VT_Counties[i]))\n",
    "    \n",
    "VT_percentage"
   ]
  },
  {
   "cell_type": "markdown",
   "metadata": {},
   "source": [
    "## Combine all States Together"
   ]
  },
  {
   "cell_type": "code",
   "execution_count": 2,
   "metadata": {},
   "outputs": [],
   "source": [
    "# Call all the excel sheet\n",
    "xls = pd.ExcelFile('Election_Counties_Result.xlsx')\n",
    "df1 = pd.read_excel(xls, 'A-D',  header=[0,1])\n",
    "df2 = pd.read_excel(xls, 'F-K', header=[0,1])\n",
    "df3 = pd.read_excel(xls, 'L-M', header=[0,1])\n",
    "df4 = pd.read_excel(xls, 'N', header=[0,1])\n",
    "df5 = pd.read_excel(xls, 'O-T', header=[0,1])\n",
    "df6 = pd.read_excel(xls, 'U-W', header=[0,1])\n"
   ]
  },
  {
   "cell_type": "code",
   "execution_count": 3,
   "metadata": {},
   "outputs": [],
   "source": [
    "# Combine and take out the NaN columns\n",
    "result = pd.concat([df1,df2,df3,df4,df5,df6], axis=1, sort=False)\n",
    "result = result.dropna(axis=1, how='all')"
   ]
  },
  {
   "cell_type": "code",
   "execution_count": 4,
   "metadata": {},
   "outputs": [],
   "source": [
    "result = result.stack().unstack(level=0)\n",
    "result = result.T\n",
    "result = result.dropna(axis=0, how='any')"
   ]
  },
  {
   "cell_type": "code",
   "execution_count": 5,
   "metadata": {},
   "outputs": [
    {
     "data": {
      "text/html": [
       "<div>\n",
       "<style scoped>\n",
       "    .dataframe tbody tr th:only-of-type {\n",
       "        vertical-align: middle;\n",
       "    }\n",
       "\n",
       "    .dataframe tbody tr th {\n",
       "        vertical-align: top;\n",
       "    }\n",
       "\n",
       "    .dataframe thead th {\n",
       "        text-align: right;\n",
       "    }\n",
       "</style>\n",
       "<table border=\"1\" class=\"dataframe\">\n",
       "  <thead>\n",
       "    <tr style=\"text-align: right;\">\n",
       "      <th></th>\n",
       "      <th></th>\n",
       "      <th>County</th>\n",
       "      <th>Percent</th>\n",
       "    </tr>\n",
       "  </thead>\n",
       "  <tbody>\n",
       "    <tr>\n",
       "      <th rowspan=\"5\" valign=\"top\">Alabama</th>\n",
       "      <th>0</th>\n",
       "      <td>Autauga</td>\n",
       "      <td>0.27</td>\n",
       "    </tr>\n",
       "    <tr>\n",
       "      <th>1</th>\n",
       "      <td>Baldwin</td>\n",
       "      <td>0.223</td>\n",
       "    </tr>\n",
       "    <tr>\n",
       "      <th>2</th>\n",
       "      <td>Barbour</td>\n",
       "      <td>0.456</td>\n",
       "    </tr>\n",
       "    <tr>\n",
       "      <th>3</th>\n",
       "      <td>Bibb</td>\n",
       "      <td>0.207</td>\n",
       "    </tr>\n",
       "    <tr>\n",
       "      <th>4</th>\n",
       "      <td>Blount</td>\n",
       "      <td>0.096</td>\n",
       "    </tr>\n",
       "    <tr>\n",
       "      <th>...</th>\n",
       "      <th>...</th>\n",
       "      <td>...</td>\n",
       "      <td>...</td>\n",
       "    </tr>\n",
       "    <tr>\n",
       "      <th rowspan=\"5\" valign=\"top\">Wyoming</th>\n",
       "      <th>18</th>\n",
       "      <td>Sweetwater</td>\n",
       "      <td>0.23</td>\n",
       "    </tr>\n",
       "    <tr>\n",
       "      <th>19</th>\n",
       "      <td>Teton</td>\n",
       "      <td>0.671</td>\n",
       "    </tr>\n",
       "    <tr>\n",
       "      <th>20</th>\n",
       "      <td>Uinta</td>\n",
       "      <td>0.169</td>\n",
       "    </tr>\n",
       "    <tr>\n",
       "      <th>21</th>\n",
       "      <td>Washakie</td>\n",
       "      <td>0.162</td>\n",
       "    </tr>\n",
       "    <tr>\n",
       "      <th>22</th>\n",
       "      <td>Weston</td>\n",
       "      <td>0.102</td>\n",
       "    </tr>\n",
       "  </tbody>\n",
       "</table>\n",
       "<p>3149 rows × 2 columns</p>\n",
       "</div>"
      ],
      "text/plain": [
       "                 County Percent\n",
       "Alabama  0      Autauga    0.27\n",
       "         1      Baldwin   0.223\n",
       "         2      Barbour   0.456\n",
       "         3         Bibb   0.207\n",
       "         4       Blount   0.096\n",
       "...                 ...     ...\n",
       "Wyoming  18  Sweetwater    0.23\n",
       "         19       Teton   0.671\n",
       "         20       Uinta   0.169\n",
       "         21    Washakie   0.162\n",
       "         22      Weston   0.102\n",
       "\n",
       "[3149 rows x 2 columns]"
      ]
     },
     "execution_count": 5,
     "metadata": {},
     "output_type": "execute_result"
    }
   ],
   "source": [
    "result"
   ]
  },
  {
   "cell_type": "code",
   "execution_count": 19,
   "metadata": {},
   "outputs": [],
   "source": [
    "result.to_excel(\"Final_Election_Result.xlsx\")  "
   ]
  }
 ],
 "metadata": {
  "kernelspec": {
   "display_name": "Python 3",
   "language": "python",
   "name": "python3"
  },
  "language_info": {
   "codemirror_mode": {
    "name": "ipython",
    "version": 3
   },
   "file_extension": ".py",
   "mimetype": "text/x-python",
   "name": "python",
   "nbconvert_exporter": "python",
   "pygments_lexer": "ipython3",
   "version": "3.8.5"
  }
 },
 "nbformat": 4,
 "nbformat_minor": 4
}
